{
 "cells": [
  {
   "cell_type": "markdown",
   "metadata": {},
   "source": [
    "### This notebook is used to benchmark the KDECopula model using different datasets from SDGym. The categorical features will be integer encoded."
   ]
  },
  {
   "cell_type": "code",
   "execution_count": null,
   "metadata": {},
   "outputs": [],
   "source": [
    "%load_ext autoreload\n",
    "%autoreload 2"
   ]
  },
  {
   "cell_type": "code",
   "execution_count": null,
   "metadata": {},
   "outputs": [],
   "source": [
    "import numpy as np\n",
    "from sdgym import benchmark\n",
    "from sdgym import load_dataset\n",
    "from xgboost import XGBClassifier\n",
    "from sklearn.neural_network import MLPClassifier\n",
    "from synthsonic.models.kde_copula_nn_pdf import KDECopulaNNPdf"
   ]
  },
  {
   "cell_type": "code",
   "execution_count": null,
   "metadata": {},
   "outputs": [],
   "source": [
    "def set_min_max(data, nf):\n",
    "    x_min = [0] * nf\n",
    "    x_max = [1.] * nf\n",
    "    for i in range(0, nf):\n",
    "        x_min[i] = data[:, i].min()\n",
    "        x_max[i] = data[:, i].max()\n",
    "    return x_min, x_max\n",
    "\n",
    "def kde_copula_nn_pdf_synthesizer(real_data, categorical_columns, ordinal_columns):\n",
    "    \n",
    "    n_samples = real_data.shape[0]\n",
    "    n_features = real_data.shape[1]\n",
    "    \n",
    "    assert len(categorical_columns) == 0\n",
    "    assert len(ordinal_columns) == 0\n",
    "    \n",
    "    x_min, x_max = set_min_max(real_data, n_features)\n",
    "    \n",
    "    kde = KDECopulaNNPdf(x_min=x_min, x_max=x_max, rho=0.5, clf=MLPClassifier(random_state=0, max_iter=500, early_stopping=True))\n",
    "    kde = kde.fit(real_data)\n",
    "    \n",
    "    X_gen, sample_weight = kde.sample(n_samples)\n",
    "    return X_gen"
   ]
  },
  {
   "cell_type": "code",
   "execution_count": null,
   "metadata": {},
   "outputs": [],
   "source": [
    "scores = benchmark(synthesizers=[kde_copula_nn_pdf_synthesizer], datasets=['grid'])"
   ]
  },
  {
   "cell_type": "code",
   "execution_count": null,
   "metadata": {},
   "outputs": [],
   "source": [
    "scores"
   ]
  },
  {
   "cell_type": "code",
   "execution_count": null,
   "metadata": {},
   "outputs": [],
   "source": [
    "def kde_copula_nn_pdf_synthesizer(real_data, categorical_columns, ordinal_columns):\n",
    "    # Max's kde copula model with default parameters\n",
    "    \n",
    "    all_features = list(range(real_data.shape[1]))\n",
    "    numerical_features = list(set(all_features) - set(categorical_columns + ordinal_columns))\n",
    "    data = np.float64(real_data)\n",
    "    \n",
    "    n_samples = data.shape[0]\n",
    "    n_features = data.shape[1]\n",
    "    x_min, x_max = set_min_max(data, n_features)\n",
    "    print(x_min, x_max)\n",
    "    #print(data.shape)\n",
    "    \n",
    "    kde = KDECopulaNNPdf(x_min=x_min, x_max=x_max, rho=0.5, clf=MLPClassifier(random_state=0, max_iter=500, early_stopping=True))\n",
    "    kde = kde.fit(data)\n",
    "    \n",
    "    X_gen, sample_weight = kde.sample(n_samples)\n",
    "    \n",
    "    X_gen[:, categorical_columns+ordinal_columns] = np.round(X_gen[:, categorical_columns+ordinal_columns])\n",
    "    X_gen = np.float32(X_gen)\n",
    "    return X_gen\n",
    "\n",
    "def kde_copula_nn_pdf_synthesizer_wo_kde(real_data, categorical_columns, ordinal_columns):\n",
    "    # Max's kde copula model with default parameters\n",
    "    \n",
    "    all_features = list(range(real_data.shape[1]))\n",
    "    numerical_features = list(set(all_features) - set(categorical_columns + ordinal_columns))\n",
    "    data = np.float64(real_data)\n",
    "    \n",
    "    n_samples = data.shape[0]\n",
    "    n_features = data.shape[1]\n",
    "    x_min, x_max = set_min_max(data, n_features)\n",
    "    print(x_min, x_max)\n",
    "    #print(data.shape)\n",
    "    \n",
    "    kde = KDECopulaNNPdf(x_min=x_min, x_max=x_max, rho=0.5, use_inverse_qt=True, clf=MLPClassifier(random_state=0, max_iter=500, early_stopping=True))\n",
    "    kde = kde.fit(data)\n",
    "    \n",
    "    X_gen, sample_weight = kde.sample(n_samples)\n",
    "    \n",
    "    X_gen[:, categorical_columns+ordinal_columns] = np.round(X_gen[:, categorical_columns+ordinal_columns])\n",
    "    X_gen = np.float32(X_gen)\n",
    "    return X_gen\n",
    "\n",
    "def kde_copula_nn_pdf_synthesizer_xgboost(real_data, categorical_columns, ordinal_columns):\n",
    "    # Max's kde copula model with xgboost\n",
    "    \n",
    "    all_features = list(range(real_data.shape[1]))\n",
    "    numerical_features = list(set(all_features) - set(categorical_columns + ordinal_columns))\n",
    "    data = np.float64(real_data)\n",
    "    \n",
    "    n_samples = data.shape[0]\n",
    "    n_features = data.shape[1]\n",
    "    x_min, x_max = set_min_max(data, n_features)\n",
    "    print(x_min, x_max)\n",
    "    #print(data.shape)\n",
    "    \n",
    "    kde = KDECopulaNNPdf(x_min=x_min, x_max=x_max, rho=0.5, clf=XGBClassifier(random_state=0))\n",
    "    kde = kde.fit(data)\n",
    "    \n",
    "    X_gen, sample_weight = kde.sample(n_samples)\n",
    "    \n",
    "    X_gen[:, categorical_columns+ordinal_columns] = np.round(X_gen[:, categorical_columns+ordinal_columns])\n",
    "    X_gen = np.float32(X_gen)\n",
    "    return X_gen\n",
    "\n",
    "def kde_copula_nn_pdf_synthesizer_no_weight(real_data, categorical_columns, ordinal_columns):\n",
    "    # Max's kde copula model with no weights\n",
    "    \n",
    "    all_features = list(range(real_data.shape[1]))\n",
    "    numerical_features = list(set(all_features) - set(categorical_columns + ordinal_columns))\n",
    "    data = np.float64(real_data)\n",
    "    \n",
    "    n_samples = data.shape[0]\n",
    "    n_features = data.shape[1]\n",
    "    x_min, x_max = set_min_max(data, n_features)\n",
    "    print(x_min, x_max)\n",
    "    #print(data.shape)\n",
    "    \n",
    "    kde = KDECopulaNNPdf(x_min=x_min, x_max=x_max, rho=0.5, clf=MLPClassifier(random_state=0, max_iter=500, early_stopping=True))\n",
    "    kde = kde.fit(data)\n",
    "    \n",
    "    X_gen = kde.sample_no_weights(n_samples)\n",
    "    \n",
    "    X_gen[:, categorical_columns+ordinal_columns] = np.round(X_gen[:, categorical_columns+ordinal_columns])\n",
    "    X_gen = np.float32(X_gen)\n",
    "    return X_gen"
   ]
  },
  {
   "cell_type": "code",
   "execution_count": null,
   "metadata": {},
   "outputs": [],
   "source": [
    "df, categorical_columns, ordinal_columns = load_dataset('adult')\n",
    "X_gen = kde_copula_nn_pdf_synthesizer(df, categorical_columns, ordinal_columns)"
   ]
  },
  {
   "cell_type": "code",
   "execution_count": null,
   "metadata": {},
   "outputs": [],
   "source": [
    "scores = benchmark(synthesizers=[kde_copula_nn_pdf_synthesizer, kde_copula_nn_pdf_synthesizer_no_weight, \\\n",
    "                                 kde_copula_nn_pdf_synthesizer_wo_kde, kde_copula_nn_pdf_synthesizer_xgboost], \n",
    "                   datasets=['adult', 'census', 'covtype'])"
   ]
  },
  {
   "cell_type": "code",
   "execution_count": null,
   "metadata": {},
   "outputs": [],
   "source": [
    "scores"
   ]
  }
 ],
 "metadata": {
  "kernelspec": {
   "display_name": "Python 3",
   "language": "python",
   "name": "python3"
  },
  "language_info": {
   "codemirror_mode": {
    "name": "ipython",
    "version": 3
   },
   "file_extension": ".py",
   "mimetype": "text/x-python",
   "name": "python",
   "nbconvert_exporter": "python",
   "pygments_lexer": "ipython3",
   "version": "3.8.5"
  }
 },
 "nbformat": 4,
 "nbformat_minor": 4
}
