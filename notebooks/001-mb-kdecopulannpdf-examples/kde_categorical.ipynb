{
 "cells": [
  {
   "cell_type": "code",
   "execution_count": null,
   "metadata": {},
   "outputs": [],
   "source": [
    "%load_ext autoreload\n",
    "%autoreload 2"
   ]
  },
  {
   "cell_type": "code",
   "execution_count": null,
   "metadata": {},
   "outputs": [],
   "source": [
    "import numpy as np\n",
    "import pandas as pd\n",
    "from sdgym import benchmark\n",
    "from sdgym import load_dataset\n",
    "from xgboost import XGBClassifier\n",
    "from sklearn.neural_network import MLPClassifier\n",
    "from synthsonic.models.kde_copula_nn_pdf import KDECopulaNNPdf"
   ]
  },
  {
   "cell_type": "code",
   "execution_count": null,
   "metadata": {},
   "outputs": [],
   "source": [
    "def get_one_hot(df, cols):\n",
    "    categorical_data = pd.DataFrame(df[:, cols], columns=cols)\n",
    "    unique_values = categorical_data.apply(pd.Series.unique)\n",
    "    unique_values = unique_values.apply(sorted)\n",
    "    unique_values = unique_values.apply(np.array)\n",
    "    one_hot_encoded = pd.get_dummies(data=categorical_data, columns=cols)\n",
    "    return unique_values, one_hot_encoded\n",
    "\n",
    "def get_inverse_one_hot(encoded, cols):\n",
    "    n_samples = encoded.shape[0]\n",
    "    orig_np = []\n",
    "    for i in cols:\n",
    "        original = encoded[encoded.columns[pd.Series(encoded.columns).str.startswith(str(i))]].idxmax(axis=1)\n",
    "        original = original.str.replace('{}_'.format(str(i)), '').astype(float)\n",
    "        orig_np.append(original)\n",
    "    return np.stack(orig_np).T\n",
    "    \n",
    "def consolidate_categorical(samples, start_idx, end_idx):\n",
    "    return np.array(pd.DataFrame(samples[:, start_idx:end_idx]).idxmax(axis=1).astype(float))\n",
    " \n",
    "def set_min_max(data, nf):\n",
    "    x_min = [0] * nf\n",
    "    x_max = [1.] * nf\n",
    "    for i in range(0, nf):\n",
    "        x_min[i] = data[:, i].min()\n",
    "        x_max[i] = data[:, i].max()\n",
    "    return x_min, x_max\n",
    "\n",
    "def kde_copula_nn_pdf_synthesizer_one_hot(real_data, categorical_columns, ordinal_columns):\n",
    "    \n",
    "    all_features = list(range(real_data.shape[1]))\n",
    "    numerical_features = list(set(all_features) - set(categorical_columns+ordinal_columns))\n",
    "    \n",
    "    ## One hot encode the categorical features\n",
    "    unique_values, ohe = get_one_hot(real_data, categorical_columns)\n",
    "    categorical_np = np.array(ohe)\n",
    "    \n",
    "    #orig = get_inverse_one_hot(ohe, categorical_columns)\n",
    "    ## Append the categorical one hot encoded data to numerical and ordinal\n",
    "    data = np.float64(np.hstack((real_data[:, numerical_features+ordinal_columns], categorical_np)))\n",
    "    assert data.shape[-1] == unique_values.str.len().sum() + len(numerical_features + ordinal_columns)\n",
    "\n",
    "    n_samples = data.shape[0]\n",
    "    n_features = data.shape[1]\n",
    "    x_min, x_max = set_min_max(data, n_features)\n",
    "    \n",
    "    ## test if one hot encoding and consolidation are working as expected\n",
    "    col = 1\n",
    "    sidx = len(numerical_features+ordinal_columns)\n",
    "    eidx = sidx + len(unique_values[col])\n",
    "    indices = consolidate_categorical(data, sidx, eidx).astype(int)\n",
    "    assert np.allclose(real_data[:, col],unique_values[col][indices])\n",
    "    ## end of test\n",
    "    \n",
    "    kde = KDECopulaNNPdf(x_min=x_min, x_max=x_max, rho=0.5, use_inverse_qt=True, \n",
    "                         clf=MLPClassifier(random_state=0, max_iter=500, early_stopping=True))\n",
    "    kde = kde.fit(data)\n",
    "    X_gen, sample_weight = kde.sample(n_samples)\n",
    "    X_gen = np.float32(X_gen)\n",
    "\n",
    "    X_gen_consolidate = {}\n",
    "    for idx, col in enumerate(numerical_features+ordinal_columns):\n",
    "        X_gen_consolidate[col] = X_gen[:, idx]\n",
    "    end_idx = idx\n",
    "    for col in categorical_columns:\n",
    "        start_idx = end_idx\n",
    "        end_idx = start_idx + len(unique_values[col])\n",
    "        indices = consolidate_categorical(X_gen, start_idx, end_idx).astype(int)\n",
    "        X_gen_consolidate[col] = unique_values[col][indices]\n",
    "        \n",
    "    keys = sorted(X_gen_consolidate.keys())\n",
    "    X_final = np.zeros((X_gen.shape[0], len(keys)))\n",
    "    for k in keys:\n",
    "        X_final[:,k] = X_gen_consolidate[k]\n",
    "\n",
    "    return X_final\n",
    "    "
   ]
  },
  {
   "cell_type": "raw",
   "metadata": {},
   "source": [
    "df, categorical_columns, ordinal_columns = load_dataset('adult')\n",
    "X_gen = kde_copula_nn_pdf_synthesizer_one_hot(df, categorical_columns, ordinal_columns)\n",
    "X_gen[:5, :]"
   ]
  },
  {
   "cell_type": "code",
   "execution_count": null,
   "metadata": {},
   "outputs": [],
   "source": [
    "scores = benchmark(synthesizers=[kde_copula_nn_pdf_synthesizer_one_hot],  datasets=['adult'])"
   ]
  },
  {
   "cell_type": "code",
   "execution_count": null,
   "metadata": {},
   "outputs": [],
   "source": [
    "scores"
   ]
  }
 ],
 "metadata": {
  "kernelspec": {
   "display_name": "Python 3",
   "language": "python",
   "name": "python3"
  },
  "language_info": {
   "codemirror_mode": {
    "name": "ipython",
    "version": 3
   },
   "file_extension": ".py",
   "mimetype": "text/x-python",
   "name": "python",
   "nbconvert_exporter": "python",
   "pygments_lexer": "ipython3",
   "version": "3.8.5"
  }
 },
 "nbformat": 4,
 "nbformat_minor": 4
}
