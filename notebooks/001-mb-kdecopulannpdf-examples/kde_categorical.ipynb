{
 "cells": [
  {
   "cell_type": "code",
   "execution_count": 1,
   "metadata": {},
   "outputs": [],
   "source": [
    "%load_ext autoreload\n",
    "%autoreload 2"
   ]
  },
  {
   "cell_type": "code",
   "execution_count": 2,
   "metadata": {},
   "outputs": [],
   "source": [
    "import numpy as np\n",
    "import pandas as pd\n",
    "from sdgym import benchmark\n",
    "from sdgym import load_dataset\n",
    "from xgboost import XGBClassifier\n",
    "from sklearn.neural_network import MLPClassifier\n",
    "from synthsonic.models.kde_copula_nn_pdf import KDECopulaNNPdf\n",
    "from synthsonic.models.categorical_utils import categorical_round, vec_translate, categorical_frequency_mapping, \\\n",
    "            categorical_frequency_inverse_mapping, encode_one_hot, decode_one_hot"
   ]
  },
  {
   "cell_type": "code",
   "execution_count": 3,
   "metadata": {},
   "outputs": [],
   "source": [
    "def KDECopulaNNPdf_woKDE_OneHotEncoded(real_data, categorical_columns, ordinal_columns):\n",
    "    \n",
    "    all_features = list(range(real_data.shape[1]))\n",
    "    numerical_features = list(set(all_features) - set(categorical_columns+ordinal_columns))\n",
    "    \n",
    "    ## One hot encode the categorical features\n",
    "    unique_values, ohe = encode_one_hot(real_data, categorical_columns)\n",
    "    categorical_np = np.array(ohe)\n",
    "    \n",
    "    n_samples = real_data.shape[0]\n",
    "    n_features = real_data.shape[1]\n",
    "    \n",
    "    ## Append the categorical one hot encoded data to numerical and ordinal\n",
    "    data = np.float64(np.hstack((real_data[:, numerical_features+ordinal_columns], categorical_np)))\n",
    "\n",
    "    kde = KDECopulaNNPdf(use_KDE=False, clf=MLPClassifier(random_state=0, max_iter=500, early_stopping=True))\n",
    "    kde = kde.fit(data)\n",
    "    X_gen, sample_weight = kde.sample(n_samples)\n",
    "    X_gen = np.float32(X_gen)\n",
    "    \n",
    "    \n",
    "    X_final = decode_one_hot(X_gen, categorical_columns, unique_values, n_features)\n",
    "    X_final[:, numerical_features+ordinal_columns] = X_gen[:, numerical_features+ordinal_columns]\n",
    "    print(X_final.shape)\n",
    "    return X_final\n",
    "    "
   ]
  },
  {
   "cell_type": "raw",
   "metadata": {},
   "source": [
    "df, categorical_columns, ordinal_columns = load_dataset('adult')\n",
    "X_gen = KDECopulaNNPdf_woKDE_OneHotEncoded(df, categorical_columns, ordinal_columns)"
   ]
  },
  {
   "cell_type": "code",
   "execution_count": 4,
   "metadata": {},
   "outputs": [
    {
     "name": "stdout",
     "output_type": "stream",
     "text": [
      "Transforming variables.\n",
      "Fitting and calibrating classifier.\n",
      "Model = rho: 0.5, number of selected non-linear variables: 91\n",
      "(22561, 15)\n",
      "Transforming variables.\n",
      "Fitting and calibrating classifier.\n",
      "Model = rho: 0.5, number of selected non-linear variables: 91\n",
      "(22561, 15)\n",
      "Transforming variables.\n",
      "Fitting and calibrating classifier.\n",
      "Model = rho: 0.5, number of selected non-linear variables: 91\n",
      "(22561, 15)\n"
     ]
    },
    {
     "data": {
      "text/html": [
       "<div>\n",
       "<style scoped>\n",
       "    .dataframe tbody tr th:only-of-type {\n",
       "        vertical-align: middle;\n",
       "    }\n",
       "\n",
       "    .dataframe tbody tr th {\n",
       "        vertical-align: top;\n",
       "    }\n",
       "\n",
       "    .dataframe thead th {\n",
       "        text-align: right;\n",
       "    }\n",
       "</style>\n",
       "<table border=\"1\" class=\"dataframe\">\n",
       "  <thead>\n",
       "    <tr style=\"text-align: right;\">\n",
       "      <th></th>\n",
       "      <th>adult/accuracy</th>\n",
       "      <th>adult/f1</th>\n",
       "      <th>timestamp</th>\n",
       "    </tr>\n",
       "  </thead>\n",
       "  <tbody>\n",
       "    <tr>\n",
       "      <th>CLBNSynthesizer</th>\n",
       "      <td>0.760117</td>\n",
       "      <td>0.291326</td>\n",
       "      <td>2020-04-12 09:41:35.096775</td>\n",
       "    </tr>\n",
       "    <tr>\n",
       "      <th>CTGANSynthesizer</th>\n",
       "      <td>0.784217</td>\n",
       "      <td>0.597420</td>\n",
       "      <td>2020-04-12 09:41:35.096775</td>\n",
       "    </tr>\n",
       "    <tr>\n",
       "      <th>IdentitySynthesizer</th>\n",
       "      <td>0.825608</td>\n",
       "      <td>0.661600</td>\n",
       "      <td>2020-04-12 09:41:35.096775</td>\n",
       "    </tr>\n",
       "    <tr>\n",
       "      <th>IndependentSynthesizer</th>\n",
       "      <td>0.654425</td>\n",
       "      <td>0.174515</td>\n",
       "      <td>2020-04-12 09:41:35.096775</td>\n",
       "    </tr>\n",
       "    <tr>\n",
       "      <th>MedganSynthesizer</th>\n",
       "      <td>0.593683</td>\n",
       "      <td>0.276167</td>\n",
       "      <td>2020-04-12 09:41:35.096775</td>\n",
       "    </tr>\n",
       "    <tr>\n",
       "      <th>TableganSynthesizer</th>\n",
       "      <td>0.798850</td>\n",
       "      <td>0.426258</td>\n",
       "      <td>2020-04-12 09:41:35.096775</td>\n",
       "    </tr>\n",
       "    <tr>\n",
       "      <th>TVAESynthesizer</th>\n",
       "      <td>0.810817</td>\n",
       "      <td>0.630175</td>\n",
       "      <td>2020-04-12 09:41:35.096775</td>\n",
       "    </tr>\n",
       "    <tr>\n",
       "      <th>UniformSynthesizer</th>\n",
       "      <td>0.500242</td>\n",
       "      <td>0.301878</td>\n",
       "      <td>2020-04-12 09:41:35.096775</td>\n",
       "    </tr>\n",
       "    <tr>\n",
       "      <th>VEEGANSynthesizer</th>\n",
       "      <td>0.718792</td>\n",
       "      <td>0.162142</td>\n",
       "      <td>2020-04-12 09:41:35.096775</td>\n",
       "    </tr>\n",
       "    <tr>\n",
       "      <th>KDECopulaNNPdf_woKDE_OneHotEncoded</th>\n",
       "      <td>0.501425</td>\n",
       "      <td>0.314894</td>\n",
       "      <td>2020-09-23 14:44:21.423168</td>\n",
       "    </tr>\n",
       "  </tbody>\n",
       "</table>\n",
       "</div>"
      ],
      "text/plain": [
       "                                    adult/accuracy  adult/f1  \\\n",
       "CLBNSynthesizer                           0.760117  0.291326   \n",
       "CTGANSynthesizer                          0.784217  0.597420   \n",
       "IdentitySynthesizer                       0.825608  0.661600   \n",
       "IndependentSynthesizer                    0.654425  0.174515   \n",
       "MedganSynthesizer                         0.593683  0.276167   \n",
       "TableganSynthesizer                       0.798850  0.426258   \n",
       "TVAESynthesizer                           0.810817  0.630175   \n",
       "UniformSynthesizer                        0.500242  0.301878   \n",
       "VEEGANSynthesizer                         0.718792  0.162142   \n",
       "KDECopulaNNPdf_woKDE_OneHotEncoded        0.501425  0.314894   \n",
       "\n",
       "                                                    timestamp  \n",
       "CLBNSynthesizer                    2020-04-12 09:41:35.096775  \n",
       "CTGANSynthesizer                   2020-04-12 09:41:35.096775  \n",
       "IdentitySynthesizer                2020-04-12 09:41:35.096775  \n",
       "IndependentSynthesizer             2020-04-12 09:41:35.096775  \n",
       "MedganSynthesizer                  2020-04-12 09:41:35.096775  \n",
       "TableganSynthesizer                2020-04-12 09:41:35.096775  \n",
       "TVAESynthesizer                    2020-04-12 09:41:35.096775  \n",
       "UniformSynthesizer                 2020-04-12 09:41:35.096775  \n",
       "VEEGANSynthesizer                  2020-04-12 09:41:35.096775  \n",
       "KDECopulaNNPdf_woKDE_OneHotEncoded 2020-09-23 14:44:21.423168  "
      ]
     },
     "execution_count": 4,
     "metadata": {},
     "output_type": "execute_result"
    }
   ],
   "source": [
    "scores = benchmark(synthesizers=[KDECopulaNNPdf_woKDE_OneHotEncoded],  datasets=['adult'])\n",
    "scores"
   ]
  },
  {
   "cell_type": "code",
   "execution_count": 5,
   "metadata": {},
   "outputs": [],
   "source": [
    "def KDECopulaNNPdf_woKDE_FreqMapping(real_data, categorical_columns, ordinal_columns):\n",
    "    \n",
    "    all_features = list(range(real_data.shape[1]))\n",
    "    numerical_features = list(set(all_features) - set(categorical_columns+ordinal_columns))\n",
    "    data = np.float64(real_data)\n",
    "    \n",
    "    n_samples = data.shape[0]\n",
    "    n_features = data.shape[1]\n",
    "    \n",
    "    data, inv_mappings = categorical_frequency_mapping(data, categorical_columns)\n",
    "\n",
    "    kde = KDECopulaNNPdf(use_KDE=False, clf=MLPClassifier(random_state=0, max_iter=500, early_stopping=True))\n",
    "    kde = kde.fit(data)\n",
    "    X_gen, sample_weight = kde.sample(n_samples)\n",
    "    \n",
    "    X_gen[:, categorical_columns] = np.round(X_gen[:, categorical_columns])\n",
    "    X_final = categorical_frequency_inverse_mapping(X_gen, categorical_columns, inv_mappings)\n",
    "    return X_final"
   ]
  },
  {
   "cell_type": "code",
   "execution_count": 6,
   "metadata": {},
   "outputs": [
    {
     "name": "stdout",
     "output_type": "stream",
     "text": [
      "Transforming variables.\n",
      "Fitting and calibrating classifier.\n",
      "Model = rho: 0.5, number of selected non-linear variables: 14\n"
     ]
    }
   ],
   "source": [
    "df, categorical_columns, ordinal_columns = load_dataset('adult')\n",
    "X_gen = KDECopulaNNPdf_woKDE_FreqMapping(df, categorical_columns, ordinal_columns)"
   ]
  },
  {
   "cell_type": "code",
   "execution_count": 7,
   "metadata": {},
   "outputs": [
    {
     "name": "stdout",
     "output_type": "stream",
     "text": [
      "Transforming variables.\n",
      "Fitting and calibrating classifier.\n",
      "Model = rho: 0.5, number of selected non-linear variables: 14\n"
     ]
    },
    {
     "name": "stderr",
     "output_type": "stream",
     "text": [
      "/Users/lorrainedalmeida/Work/Experiment_Week/synthsonic/env/lib/python3.8/site-packages/sklearn/neural_network/_multilayer_perceptron.py:582: ConvergenceWarning: Stochastic Optimizer: Maximum iterations (50) reached and the optimization hasn't converged yet.\n",
      "  warnings.warn(\n"
     ]
    },
    {
     "name": "stdout",
     "output_type": "stream",
     "text": [
      "Transforming variables.\n",
      "Fitting and calibrating classifier.\n",
      "Model = rho: 0.5, number of selected non-linear variables: 14\n"
     ]
    },
    {
     "name": "stderr",
     "output_type": "stream",
     "text": [
      "/Users/lorrainedalmeida/Work/Experiment_Week/synthsonic/env/lib/python3.8/site-packages/sklearn/neural_network/_multilayer_perceptron.py:582: ConvergenceWarning: Stochastic Optimizer: Maximum iterations (50) reached and the optimization hasn't converged yet.\n",
      "  warnings.warn(\n"
     ]
    },
    {
     "name": "stdout",
     "output_type": "stream",
     "text": [
      "Transforming variables.\n",
      "Fitting and calibrating classifier.\n",
      "Model = rho: 0.5, number of selected non-linear variables: 14\n"
     ]
    },
    {
     "name": "stderr",
     "output_type": "stream",
     "text": [
      "/Users/lorrainedalmeida/Work/Experiment_Week/synthsonic/env/lib/python3.8/site-packages/sklearn/neural_network/_multilayer_perceptron.py:582: ConvergenceWarning: Stochastic Optimizer: Maximum iterations (50) reached and the optimization hasn't converged yet.\n",
      "  warnings.warn(\n"
     ]
    },
    {
     "data": {
      "text/html": [
       "<div>\n",
       "<style scoped>\n",
       "    .dataframe tbody tr th:only-of-type {\n",
       "        vertical-align: middle;\n",
       "    }\n",
       "\n",
       "    .dataframe tbody tr th {\n",
       "        vertical-align: top;\n",
       "    }\n",
       "\n",
       "    .dataframe thead th {\n",
       "        text-align: right;\n",
       "    }\n",
       "</style>\n",
       "<table border=\"1\" class=\"dataframe\">\n",
       "  <thead>\n",
       "    <tr style=\"text-align: right;\">\n",
       "      <th></th>\n",
       "      <th>adult/accuracy</th>\n",
       "      <th>adult/f1</th>\n",
       "      <th>timestamp</th>\n",
       "    </tr>\n",
       "  </thead>\n",
       "  <tbody>\n",
       "    <tr>\n",
       "      <th>CLBNSynthesizer</th>\n",
       "      <td>0.760117</td>\n",
       "      <td>0.291326</td>\n",
       "      <td>2020-04-12 09:41:35.096775</td>\n",
       "    </tr>\n",
       "    <tr>\n",
       "      <th>CTGANSynthesizer</th>\n",
       "      <td>0.784217</td>\n",
       "      <td>0.597420</td>\n",
       "      <td>2020-04-12 09:41:35.096775</td>\n",
       "    </tr>\n",
       "    <tr>\n",
       "      <th>IdentitySynthesizer</th>\n",
       "      <td>0.825608</td>\n",
       "      <td>0.661600</td>\n",
       "      <td>2020-04-12 09:41:35.096775</td>\n",
       "    </tr>\n",
       "    <tr>\n",
       "      <th>IndependentSynthesizer</th>\n",
       "      <td>0.654425</td>\n",
       "      <td>0.174515</td>\n",
       "      <td>2020-04-12 09:41:35.096775</td>\n",
       "    </tr>\n",
       "    <tr>\n",
       "      <th>MedganSynthesizer</th>\n",
       "      <td>0.593683</td>\n",
       "      <td>0.276167</td>\n",
       "      <td>2020-04-12 09:41:35.096775</td>\n",
       "    </tr>\n",
       "    <tr>\n",
       "      <th>TableganSynthesizer</th>\n",
       "      <td>0.798850</td>\n",
       "      <td>0.426258</td>\n",
       "      <td>2020-04-12 09:41:35.096775</td>\n",
       "    </tr>\n",
       "    <tr>\n",
       "      <th>TVAESynthesizer</th>\n",
       "      <td>0.810817</td>\n",
       "      <td>0.630175</td>\n",
       "      <td>2020-04-12 09:41:35.096775</td>\n",
       "    </tr>\n",
       "    <tr>\n",
       "      <th>UniformSynthesizer</th>\n",
       "      <td>0.500242</td>\n",
       "      <td>0.301878</td>\n",
       "      <td>2020-04-12 09:41:35.096775</td>\n",
       "    </tr>\n",
       "    <tr>\n",
       "      <th>VEEGANSynthesizer</th>\n",
       "      <td>0.718792</td>\n",
       "      <td>0.162142</td>\n",
       "      <td>2020-04-12 09:41:35.096775</td>\n",
       "    </tr>\n",
       "    <tr>\n",
       "      <th>KDECopulaNNPdf_woKDE_FreqMapping</th>\n",
       "      <td>0.750375</td>\n",
       "      <td>0.454029</td>\n",
       "      <td>2020-09-23 12:55:47.158573</td>\n",
       "    </tr>\n",
       "  </tbody>\n",
       "</table>\n",
       "</div>"
      ],
      "text/plain": [
       "                                  adult/accuracy  adult/f1  \\\n",
       "CLBNSynthesizer                         0.760117  0.291326   \n",
       "CTGANSynthesizer                        0.784217  0.597420   \n",
       "IdentitySynthesizer                     0.825608  0.661600   \n",
       "IndependentSynthesizer                  0.654425  0.174515   \n",
       "MedganSynthesizer                       0.593683  0.276167   \n",
       "TableganSynthesizer                     0.798850  0.426258   \n",
       "TVAESynthesizer                         0.810817  0.630175   \n",
       "UniformSynthesizer                      0.500242  0.301878   \n",
       "VEEGANSynthesizer                       0.718792  0.162142   \n",
       "KDECopulaNNPdf_woKDE_FreqMapping        0.750375  0.454029   \n",
       "\n",
       "                                                  timestamp  \n",
       "CLBNSynthesizer                  2020-04-12 09:41:35.096775  \n",
       "CTGANSynthesizer                 2020-04-12 09:41:35.096775  \n",
       "IdentitySynthesizer              2020-04-12 09:41:35.096775  \n",
       "IndependentSynthesizer           2020-04-12 09:41:35.096775  \n",
       "MedganSynthesizer                2020-04-12 09:41:35.096775  \n",
       "TableganSynthesizer              2020-04-12 09:41:35.096775  \n",
       "TVAESynthesizer                  2020-04-12 09:41:35.096775  \n",
       "UniformSynthesizer               2020-04-12 09:41:35.096775  \n",
       "VEEGANSynthesizer                2020-04-12 09:41:35.096775  \n",
       "KDECopulaNNPdf_woKDE_FreqMapping 2020-09-23 12:55:47.158573  "
      ]
     },
     "execution_count": 7,
     "metadata": {},
     "output_type": "execute_result"
    }
   ],
   "source": [
    "scores = benchmark(synthesizers=[KDECopulaNNPdf_woKDE_FreqMapping],  datasets=['adult'])\n",
    "scores"
   ]
  },
  {
   "cell_type": "code",
   "execution_count": null,
   "metadata": {},
   "outputs": [],
   "source": []
  }
 ],
 "metadata": {
  "kernelspec": {
   "display_name": "Python 3",
   "language": "python",
   "name": "python3"
  },
  "language_info": {
   "codemirror_mode": {
    "name": "ipython",
    "version": 3
   },
   "file_extension": ".py",
   "mimetype": "text/x-python",
   "name": "python",
   "nbconvert_exporter": "python",
   "pygments_lexer": "ipython3",
   "version": "3.8.5"
  }
 },
 "nbformat": 4,
 "nbformat_minor": 4
}
